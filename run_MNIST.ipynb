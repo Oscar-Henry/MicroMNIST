{
 "cells": [
  {
   "cell_type": "code",
   "execution_count": 1,
   "metadata": {},
   "outputs": [],
   "source": [
    "import numpy as np\n",
    "import matplotlib.pyplot as plt\n",
    "import sys"
   ]
  },
  {
   "cell_type": "code",
   "execution_count": 3,
   "metadata": {},
   "outputs": [],
   "source": [
    "from micrograd.mnist import load_mnist\n",
    "from micrograd.engine import Value\n",
    "from micrograd.nn import MLP"
   ]
  },
  {
   "cell_type": "code",
   "execution_count": 2,
   "metadata": {},
   "outputs": [],
   "source": [
    "sys.setrecursionlimit(10000)\n",
    "BATCH_SIZE = 32"
   ]
  },
  {
   "cell_type": "code",
   "execution_count": null,
   "metadata": {},
   "outputs": [],
   "source": [
    "(x_train, t_train), (x_test, t_test) = load_mnist()\n",
    "\n",
    "print(\"Dataset dimension:\")\n",
    "\n",
    "print(\"Training set = \", len(x_train), len(t_train))\n",
    "print(\"Test set = \", len(x_test), len(t_test))\n",
    "\n",
    "print(\"Dimension of input = \", len(x_train[0]))"
   ]
  },
  {
   "cell_type": "code",
   "execution_count": null,
   "metadata": {},
   "outputs": [],
   "source": [
    "num_row = 2\n",
    "num_col = 5\n",
    "num = num_row * num_col\n",
    "\n",
    "fig, axes = plt.subplots(num_row, num_col, figsize = (1.5 * num_col, 2 * num_row))\n",
    "for i in range(num):\n",
    "    image = np.array(x_train[i], dtype='float').reshape((28, 28))\n",
    "    ax = axes[i//num_col, i%num_col]\n",
    "    ax.imshow(image, cmap='gray')\n",
    "    ax.set_title('Label: {}'.format(t_train[i]))\n",
    "plt.tight_layout()\n",
    "plt.show()\n",
    "plt.savefig(\"C:\\\\Users\\\\hosca\\\\Documents\\\\MNIST\\\\images\\\\image1.pdf\", )\n"
   ]
  },
  {
   "cell_type": "code",
   "execution_count": null,
   "metadata": {},
   "outputs": [],
   "source": [
    "model = MLP(784, [64, 10])\n",
    "print('number of parameters', len(model.parameters()))\n",
    "print(model)"
   ]
  },
  {
   "cell_type": "code",
   "execution_count": null,
   "metadata": {},
   "outputs": [],
   "source": [
    "# loss function\n",
    "def loss(batch_size=None):\n",
    "    \n",
    "    # inline DataLoader :)\n",
    "    if batch_size is None:\n",
    "        Xb, yb = x_train, t_train\n",
    "    else:\n",
    "        ri = np.random.permutation(x_train.shape[0])[:batch_size]\n",
    "        Xb, yb = x_train[ri], t_train[ri]\n",
    "    inputs = [list(map(Value, xrow)) for xrow in Xb]\n",
    "    \n",
    "    # forward the model to get scores\n",
    "    scores = list(map(model, inputs)) \n",
    "    \n",
    "    # Cross-entropy Loss\n",
    "    losses = [(- score[yi].log()) for yi, score in zip(yb, scores)]\n",
    "    total_loss = sum(losses) / len(losses)\n",
    "\n",
    "    # Accuracy\n",
    "    accuracy = []\n",
    "    for yi, score in zip(yb, scores):\n",
    "        argmax = -1\n",
    "        valmax = 0\n",
    "        for idx, scorei in enumerate(score):\n",
    "            if scorei.data > valmax:\n",
    "                valmax = scorei.data\n",
    "                argmax = idx\n",
    "        accuracy.append((argmax == yi))\n",
    "\n",
    "    acc = sum(accuracy) / len(accuracy)\n",
    "        \n",
    "    return total_loss, acc\n",
    "\n",
    "total_loss, acc = loss(batch_size = BATCH_SIZE)\n",
    "print(f\"step {0} loss {total_loss.data}, accuracy {acc*100}%\")"
   ]
  },
  {
   "cell_type": "code",
   "execution_count": null,
   "metadata": {},
   "outputs": [],
   "source": [
    "# backward\n",
    "for k in range(100):\n",
    "    model.zero_grad()\n",
    "    total_loss.backward()\n",
    "        \n",
    "    # update (sgd)\n",
    "    learning_rate = 1.0 - 0.9*k/100\n",
    "    for p in model.parameters():\n",
    "        p.data -= learning_rate * p.grad\n",
    "\n",
    "    total_loss, acc = loss(batch_size = BATCH_SIZE)\n",
    "        \n",
    "    print(f\"step {k + 1} loss {total_loss.data}, accuracy {acc*100}%\")"
   ]
  },
  {
   "cell_type": "code",
   "execution_count": 10,
   "metadata": {},
   "outputs": [],
   "source": [
    "def test(batch_size=None):\n",
    "    \n",
    "    ri = np.random.permutation(x_test.shape[0])[:batch_size]\n",
    "    Xb, yb = x_test[ri], t_test[ri]\n",
    "    inputs = [list(map(Value, xrow)) for xrow in Xb]\n",
    "    \n",
    "    # forward the model to get scores\n",
    "    scores = list(map(model, inputs))\n",
    "    \n",
    "    # Cross-entropy Loss\n",
    "    losses = [(- score[yi].log()) for yi, score in zip(yb, scores)]\n",
    "    total_loss = sum(losses) / len(losses)\n",
    "\n",
    "    # Accuracy\n",
    "    predict = []\n",
    "    accuracy = []\n",
    "    for yi, score in zip(yb, scores):\n",
    "        argmax = -1\n",
    "        valmax = 0\n",
    "        for idx, scorei in enumerate(score):\n",
    "            if scorei.data > valmax:\n",
    "                valmax = scorei.data\n",
    "                argmax = idx\n",
    "        predict.append((argmax, yi))\n",
    "        accuracy.append((argmax == yi))\n",
    "\n",
    "    acc = sum(accuracy) / len(accuracy)\n",
    "        \n",
    "    return total_loss, acc, predict"
   ]
  },
  {
   "cell_type": "code",
   "execution_count": null,
   "metadata": {},
   "outputs": [],
   "source": [
    "# evaluate\n",
    "loss_all = []\n",
    "acc_all = []\n",
    "pred_all = []\n",
    "for k in range(10):\n",
    "    total_loss, acc, pred = test(batch_size = BATCH_SIZE)\n",
    "    loss_all.append(total_loss)\n",
    "    acc_all.append(acc)\n",
    "    pred_all.append(pred)\n",
    "    print(f\"eval {k + 1} loss {total_loss.data}, accuracy {acc*100}%\")"
   ]
  }
 ],
 "metadata": {
  "kernelspec": {
   "display_name": "base",
   "language": "python",
   "name": "python3"
  },
  "language_info": {
   "codemirror_mode": {
    "name": "ipython",
    "version": 3
   },
   "file_extension": ".py",
   "mimetype": "text/x-python",
   "name": "python",
   "nbconvert_exporter": "python",
   "pygments_lexer": "ipython3",
   "version": "3.12.7"
  }
 },
 "nbformat": 4,
 "nbformat_minor": 2
}
